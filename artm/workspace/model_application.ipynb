{
 "cells": [
  {
   "cell_type": "code",
   "execution_count": null,
   "metadata": {
    "collapsed": true
   },
   "outputs": [],
   "source": [
    "import artm\n",
    "import pandas as pd\n",
    "import numpy as np\n",
    "import json\n",
    "\n",
    "import zmq"
   ]
  },
  {
   "cell_type": "code",
   "execution_count": null,
   "metadata": {
    "collapsed": false
   },
   "outputs": [],
   "source": [
    "from utils import sample_from, get_text_processor, prepare_for_artm\n",
    "from collections import Counter\n",
    "\n",
    "text_processor = get_text_processor()"
   ]
  },
  {
   "cell_type": "code",
   "execution_count": null,
   "metadata": {
    "collapsed": true
   },
   "outputs": [],
   "source": [
    "modalities_set = set(['classes', 'tag', 'text'])"
   ]
  },
  {
   "cell_type": "code",
   "execution_count": null,
   "metadata": {
    "collapsed": true
   },
   "outputs": [],
   "source": [
    "model_file = '../data/big_model.artm.mtx'\n",
    "dict_file = '../data/dict.filtered'"
   ]
  },
  {
   "cell_type": "code",
   "execution_count": null,
   "metadata": {
    "collapsed": true
   },
   "outputs": [],
   "source": [
    "with open('../data/insception-classes.tsv') as income:\n",
    "    class_names = dict(map(lambda l: map(str.strip, l.split('\\t')), income))"
   ]
  },
  {
   "cell_type": "code",
   "execution_count": null,
   "metadata": {
    "collapsed": false
   },
   "outputs": [],
   "source": [
    "sparsed_topics = 39\n",
    "smoothed_topics = 5\n",
    "\n",
    "topics = ['good_%i'%_ for _ in range(sparsed_topics)] + ['mess_%s'%_ for _ in range(smoothed_topics)]\n",
    "\n",
    "tm = artm.ARTM(num_topics=44, num_processors=2)\n",
    "\n",
    "tm.load(model_file)\n",
    "tm.regularizers.add(artm.SmoothSparsePhiRegularizer(name='text_sparser', tau=-0.7, class_ids=['text']))\n",
    "tm.regularizers.add(artm.SmoothSparsePhiRegularizer(name='classes_sparser', tau=-0.3, class_ids=['classes']))\n",
    "tm.regularizers.add(artm.SmoothSparsePhiRegularizer(name='tags_smoother', tau=1, class_ids=['tag']))\n",
    "tm.regularizers.add(artm.SmoothSparseThetaRegularizer(name='topic_sparser', tau=-2, topic_names=topics[:sparsed_topics]))\n",
    "tm.regularizers.add(artm.SmoothSparseThetaRegularizer(name='topic_smoother', tau=2.5, topic_names=topics[smoothed_topics:]))"
   ]
  },
  {
   "cell_type": "code",
   "execution_count": null,
   "metadata": {
    "collapsed": true
   },
   "outputs": [],
   "source": []
  },
  {
   "cell_type": "code",
   "execution_count": null,
   "metadata": {
    "collapsed": true
   },
   "outputs": [],
   "source": [
    "def make_sample(ps, times):\n",
    "    return Counter(dict((ps.index[k], v) for k,v in enumerate(np.random.multinomial(times, ps.values.reshape(-1)*0.98)) if v > 0))"
   ]
  },
  {
   "cell_type": "code",
   "execution_count": null,
   "metadata": {
    "collapsed": true
   },
   "outputs": [],
   "source": [
    "def get_top(row, treshold=0.95, number=5):\n",
    "    sorted_row = row.sort_values(ascending=False)\n",
    "    \n",
    "    res = []\n",
    "    prob_mass = 0\n",
    "    for k, val in sorted_row.iteritems():\n",
    "        prob_mass+=val\n",
    "        res.append((k, val))\n",
    "        if prob_mass>treshold:\n",
    "            break\n",
    "        if len(res)==number:\n",
    "            res.append(('other', (1. - prob_mass)))\n",
    "            break\n",
    "    \n",
    "    return ['%s:%s'%l for l in res]"
   ]
  },
  {
   "cell_type": "code",
   "execution_count": null,
   "metadata": {
    "collapsed": false
   },
   "outputs": [],
   "source": [
    "def do_all(income_json, temp_name='temp'):\n",
    "    data_in = json.loads(income_json) if isinstance(income_json, basestring) else income_json\n",
    "    df_in = pd.DataFrame(data_in)\n",
    "\n",
    "    if 'text' in df_in:\n",
    "        df_in.text = df_in.text.apply(text_processor).apply(Counter)\n",
    "\n",
    "    if 'tag' in df_in:\n",
    "        df_in.tag = df_in.tag.apply(Counter)\n",
    "\n",
    "    if 'classes' in df_in:\n",
    "        df_in.classes = df_in.classes.apply(np.array).apply(sample_from)\n",
    "\n",
    "    batch = prepare_for_artm(df_in, temp_name)\n",
    "\n",
    "    modalities_to_generate = modalities_set - set(df_in.columns)\n",
    "\n",
    "    if 'classes' in modalities_to_generate: \n",
    "        df_in['classes'] = list(tm.transform(batch, predict_class_id='classes').T.sort_index().T\\\n",
    "                                .apply(lambda r: sample_from(r.values), axis=0)\\\n",
    "                                .apply(lambda d: reduce(lambda l1,l2: l1+l2, [[e]*k for e,k in d.items()]))\\\n",
    "                                .apply(lambda l: map(lambda c: class_names.get(str(c), 'unknown'), l)))\n",
    " \n",
    "    if 'text' in modalities_to_generate: \n",
    "        df_in['text'] = list(tm.transform(batch, predict_class_id='text').T.sort_index().T\\\n",
    "                            .apply(lambda r: get_top(r, 0.2, 20), axis=0))\n",
    "\n",
    "    if 'tag' in modalities_to_generate: \n",
    "        df_in['tag'] = list(tm.transform(batch, predict_class_id='tag').T.sort_index().T\\\n",
    "                            .apply(lambda r: make_sample(r, 5), axis=0)\\\n",
    "                            .apply(lambda d: reduce(lambda l1,l2: l1+l2, [[e]*k for e,k in d.items()])))\n",
    "   \n",
    "\n",
    "    df_in['topics'] = map(lambda (k, row): map(float, row), tm.transform(batch).T.sort_index().iterrows())\n",
    "    \n",
    "    print df_in\n",
    "    \n",
    "    outcome = []\n",
    "    for u, data in df_in.iterrows():\n",
    "        ans = data.to_dict()\n",
    "        ans['img_url'] = u\n",
    "        outcome.append(u'%s\\n'% json.dumps(ans))\n",
    "    \n",
    "    return '[%s]'% ', \\n'.join(outcome)"
   ]
  },
  {
   "cell_type": "code",
   "execution_count": null,
   "metadata": {
    "collapsed": false
   },
   "outputs": [],
   "source": [
    "context = zmq.Context()\n",
    "socket = context.socket(zmq.REP)\n",
    "socket.bind(\"tcp://*:1349\")"
   ]
  },
  {
   "cell_type": "code",
   "execution_count": null,
   "metadata": {
    "collapsed": false
   },
   "outputs": [],
   "source": [
    "while True:\n",
    "    print 'ready to recieve'\n",
    "    income = socket.recv_json()\n",
    "    print 'income is', income\n",
    "    res = do_all(income)\n",
    "    print 'res is', res\n",
    "    socket.send_string(res.decode('utf8'))"
   ]
  },
  {
   "cell_type": "code",
   "execution_count": null,
   "metadata": {
    "collapsed": true
   },
   "outputs": [],
   "source": []
  }
 ],
 "metadata": {
  "kernelspec": {
   "display_name": "Python 2",
   "language": "python",
   "name": "python2"
  },
  "language_info": {
   "codemirror_mode": {
    "name": "ipython",
    "version": 2
   },
   "file_extension": ".py",
   "mimetype": "text/x-python",
   "name": "python",
   "nbconvert_exporter": "python",
   "pygments_lexer": "ipython2",
   "version": "2.7.12"
  }
 },
 "nbformat": 4,
 "nbformat_minor": 2
}
